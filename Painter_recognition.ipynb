{
 "cells": [
  {
   "cell_type": "markdown",
   "metadata": {},
   "source": [
    "This notebook is for PyTorch approach to recognizing art styles."
   ]
  },
  {
   "cell_type": "code",
   "execution_count": 1,
   "metadata": {},
   "outputs": [],
   "source": [
    "%reload_ext autoreload\n",
    "%autoreload 2\n",
    "%matplotlib inline"
   ]
  },
  {
   "cell_type": "code",
   "execution_count": 2,
   "metadata": {},
   "outputs": [],
   "source": [
    "from fastai.vision import *\n",
    "from fastai.metrics import error_rate\n",
    "from pathlib import Path\n",
    "import pandas as pd\n",
    "import numpy as np"
   ]
  },
  {
   "cell_type": "code",
   "execution_count": 3,
   "metadata": {},
   "outputs": [],
   "source": [
    "bs = 16"
   ]
  },
  {
   "cell_type": "code",
   "execution_count": 4,
   "metadata": {},
   "outputs": [
    {
     "data": {
      "text/plain": [
       "PosixPath('resized/train')"
      ]
     },
     "execution_count": 4,
     "metadata": {},
     "output_type": "execute_result"
    }
   ],
   "source": [
    "train_path = Path(\"./resized/train\")\n",
    "train_path"
   ]
  },
  {
   "cell_type": "code",
   "execution_count": 5,
   "metadata": {},
   "outputs": [
    {
     "data": {
      "text/plain": [
       "[PosixPath('resized/train/9732.jpg'),\n",
       " PosixPath('resized/train/14378.jpg'),\n",
       " PosixPath('resized/train/88219.jpg'),\n",
       " PosixPath('resized/train/91560.jpg'),\n",
       " PosixPath('resized/train/31624.jpg')]"
      ]
     },
     "execution_count": 5,
     "metadata": {},
     "output_type": "execute_result"
    }
   ],
   "source": [
    "fnames = get_image_files(train_path)\n",
    "fnames[:5]"
   ]
  },
  {
   "cell_type": "code",
   "execution_count": 6,
   "metadata": {},
   "outputs": [
    {
     "data": {
      "text/html": [
       "<div>\n",
       "<style scoped>\n",
       "    .dataframe tbody tr th:only-of-type {\n",
       "        vertical-align: middle;\n",
       "    }\n",
       "\n",
       "    .dataframe tbody tr th {\n",
       "        vertical-align: top;\n",
       "    }\n",
       "\n",
       "    .dataframe thead th {\n",
       "        text-align: right;\n",
       "    }\n",
       "</style>\n",
       "<table border=\"1\" class=\"dataframe\">\n",
       "  <thead>\n",
       "    <tr style=\"text-align: right;\">\n",
       "      <th></th>\n",
       "      <th>filename</th>\n",
       "      <th>artist</th>\n",
       "      <th>title</th>\n",
       "      <th>style</th>\n",
       "      <th>genre</th>\n",
       "      <th>date</th>\n",
       "    </tr>\n",
       "  </thead>\n",
       "  <tbody>\n",
       "    <tr>\n",
       "      <th>0</th>\n",
       "      <td>102257.jpg</td>\n",
       "      <td>5b39c876740bfc1cfaf544721c43cac3</td>\n",
       "      <td>Uriel</td>\n",
       "      <td>Color Field Painting</td>\n",
       "      <td>abstract</td>\n",
       "      <td>1955.0</td>\n",
       "    </tr>\n",
       "    <tr>\n",
       "      <th>1</th>\n",
       "      <td>75232.jpg</td>\n",
       "      <td>5b39c876740bfc1cfaf544721c43cac3</td>\n",
       "      <td>Vir Heroicus Sublimis</td>\n",
       "      <td>Color Field Painting</td>\n",
       "      <td>abstract</td>\n",
       "      <td>1950.0</td>\n",
       "    </tr>\n",
       "    <tr>\n",
       "      <th>2</th>\n",
       "      <td>29855.jpg</td>\n",
       "      <td>96e5bc98488ed589b9bf17ad9fd09371</td>\n",
       "      <td>Night March of a Hundred Demons (left half)</td>\n",
       "      <td>Yamato-e</td>\n",
       "      <td>mythological painting</td>\n",
       "      <td>NaN</td>\n",
       "    </tr>\n",
       "    <tr>\n",
       "      <th>3</th>\n",
       "      <td>62252.jpg</td>\n",
       "      <td>5b39c876740bfc1cfaf544721c43cac3</td>\n",
       "      <td>Who’s Afraid of Red,  Yellow and Blue II</td>\n",
       "      <td>Color Field Painting</td>\n",
       "      <td>abstract</td>\n",
       "      <td>NaN</td>\n",
       "    </tr>\n",
       "    <tr>\n",
       "      <th>4</th>\n",
       "      <td>63861.jpg</td>\n",
       "      <td>5b39c876740bfc1cfaf544721c43cac3</td>\n",
       "      <td>Black Fire I</td>\n",
       "      <td>Color Field Painting</td>\n",
       "      <td>abstract</td>\n",
       "      <td>1963.0</td>\n",
       "    </tr>\n",
       "  </tbody>\n",
       "</table>\n",
       "</div>"
      ],
      "text/plain": [
       "     filename                            artist  \\\n",
       "0  102257.jpg  5b39c876740bfc1cfaf544721c43cac3   \n",
       "1   75232.jpg  5b39c876740bfc1cfaf544721c43cac3   \n",
       "2   29855.jpg  96e5bc98488ed589b9bf17ad9fd09371   \n",
       "3   62252.jpg  5b39c876740bfc1cfaf544721c43cac3   \n",
       "4   63861.jpg  5b39c876740bfc1cfaf544721c43cac3   \n",
       "\n",
       "                                         title                 style  \\\n",
       "0                                        Uriel  Color Field Painting   \n",
       "1                        Vir Heroicus Sublimis  Color Field Painting   \n",
       "2  Night March of a Hundred Demons (left half)              Yamato-e   \n",
       "3     Who’s Afraid of Red,  Yellow and Blue II  Color Field Painting   \n",
       "4                                Black Fire I   Color Field Painting   \n",
       "\n",
       "                   genre    date  \n",
       "0               abstract  1955.0  \n",
       "1               abstract  1950.0  \n",
       "2  mythological painting     NaN  \n",
       "3               abstract     NaN  \n",
       "4               abstract  1963.0  "
      ]
     },
     "execution_count": 6,
     "metadata": {},
     "output_type": "execute_result"
    }
   ],
   "source": [
    "df = pd.read_csv('train_info.csv')\n",
    "df.head()"
   ]
  },
  {
   "cell_type": "code",
   "execution_count": 7,
   "metadata": {},
   "outputs": [
    {
     "name": "stdout",
     "output_type": "stream",
     "text": [
      "<class 'pandas.core.frame.DataFrame'>\n",
      "RangeIndex: 79433 entries, 0 to 79432\n",
      "Data columns (total 6 columns):\n",
      "filename    79433 non-null object\n",
      "artist      79433 non-null object\n",
      "title       79420 non-null object\n",
      "style       78668 non-null object\n",
      "genre       78540 non-null object\n",
      "date        59178 non-null object\n",
      "dtypes: object(6)\n",
      "memory usage: 3.6+ MB\n",
      "None\n"
     ]
    }
   ],
   "source": [
    "print(df.info())"
   ]
  },
  {
   "cell_type": "code",
   "execution_count": 8,
   "metadata": {},
   "outputs": [
    {
     "data": {
      "text/plain": [
       "['Color Field Painting',\n",
       " 'Yamato-e',\n",
       " 'Ukiyo-e',\n",
       " 'Surrealism',\n",
       " 'Northern Renaissance',\n",
       " 'Romanticism',\n",
       " 'Realism',\n",
       " 'Biedermeier',\n",
       " 'Baroque',\n",
       " 'Cubism',\n",
       " 'Pointillism',\n",
       " 'Rococo',\n",
       " 'High Renaissance',\n",
       " 'Fauvism',\n",
       " 'Symbolism',\n",
       " nan,\n",
       " 'Early Renaissance',\n",
       " 'Classicism',\n",
       " 'Post-Impressionism',\n",
       " 'Art Nouveau (Modern)',\n",
       " 'Mannerism (Late Renaissance)',\n",
       " 'Expressionism',\n",
       " 'Japonism',\n",
       " 'Neoclassicism',\n",
       " 'Impressionism',\n",
       " 'Ink and wash painting',\n",
       " 'Orphism',\n",
       " 'Neo-Rococo',\n",
       " 'Orientalism',\n",
       " 'Magic Realism',\n",
       " 'Academicism',\n",
       " 'Naïve Art (Primitivism)',\n",
       " 'Tonalism',\n",
       " 'Op Art',\n",
       " 'Neo-Romanticism',\n",
       " 'Constructivism',\n",
       " 'Dada',\n",
       " 'Neo-Expressionism',\n",
       " 'Neoplasticism',\n",
       " 'Abstract Expressionism',\n",
       " 'Proto Renaissance',\n",
       " 'Tenebrism',\n",
       " 'Muralism',\n",
       " 'Art Informel',\n",
       " 'Analytical\\xa0Realism',\n",
       " 'Art Brut',\n",
       " 'Pop Art',\n",
       " 'Safavid Period',\n",
       " 'Lyrical Abstraction',\n",
       " 'Regionalism',\n",
       " 'Byzantine',\n",
       " 'Suprematism',\n",
       " 'Futurism',\n",
       " 'Abstract Art',\n",
       " 'Cloisonnism',\n",
       " 'Concretism',\n",
       " 'Romanesque',\n",
       " 'Intimism',\n",
       " 'Tachisme',\n",
       " 'Synthetic Cubism',\n",
       " 'American Realism',\n",
       " 'Gongbi',\n",
       " 'Socialist Realism',\n",
       " 'Shin-hanga',\n",
       " 'Spatialism',\n",
       " 'Nanga (Bunjinga)',\n",
       " 'Tubism',\n",
       " 'Verism',\n",
       " 'Metaphysical art',\n",
       " 'International Gothic',\n",
       " 'Naturalism',\n",
       " 'Synthetism',\n",
       " 'Art Deco',\n",
       " 'New Realism',\n",
       " 'Conceptual Art',\n",
       " 'Cubo-Futurism',\n",
       " 'Purism',\n",
       " 'Kitsch',\n",
       " 'Outsider art',\n",
       " 'Action painting',\n",
       " 'Contemporary Realism',\n",
       " 'Minimalism',\n",
       " 'Spectralism',\n",
       " 'Costumbrismo',\n",
       " 'Precisionism',\n",
       " 'Social Realism',\n",
       " 'Divisionism',\n",
       " 'Neo-baroque',\n",
       " 'Nouveau Réalisme',\n",
       " 'Luminism',\n",
       " 'Sōsaku hanga',\n",
       " 'Neo-Dada',\n",
       " 'Mosan art',\n",
       " 'Hyper-Realism',\n",
       " 'Kinetic Art',\n",
       " 'Cubo-Expressionism',\n",
       " 'Poster Art Realism',\n",
       " 'Post-Painterly Abstraction',\n",
       " 'Hard Edge Painting',\n",
       " 'Ottoman Period',\n",
       " 'Existential Art',\n",
       " 'Feminist Art',\n",
       " 'New European Painting',\n",
       " 'Lettrism',\n",
       " 'Nas-Taliq',\n",
       " 'Automatic Painting',\n",
       " 'Figurative Expressionism',\n",
       " 'Post-Minimalism',\n",
       " 'Primitivism',\n",
       " 'Zen',\n",
       " 'Nihonga',\n",
       " 'Fantastic Realism',\n",
       " 'Analytical Cubism',\n",
       " 'Gothic',\n",
       " 'Cartographic Art',\n",
       " 'Mechanistic Cubism',\n",
       " 'Photorealism',\n",
       " 'Indian Space painting',\n",
       " 'Timurid Period',\n",
       " 'Synchromism',\n",
       " 'Neo-Concretism',\n",
       " 'Rayonism',\n",
       " 'Perceptism ',\n",
       " 'Modernismo',\n",
       " 'Native Art',\n",
       " 'Light and Space',\n",
       " 'Ilkhanid',\n",
       " 'Mail Art',\n",
       " 'Joseon Dynasty',\n",
       " 'Neo-Figurative Art',\n",
       " 'Miserablism',\n",
       " 'Street art',\n",
       " 'Neo-Byzantine',\n",
       " 'New Casualism',\n",
       " 'Environmental (Land) Art',\n",
       " 'Transautomatism']"
      ]
     },
     "execution_count": 8,
     "metadata": {},
     "output_type": "execute_result"
    }
   ],
   "source": [
    "df[\"style\"].unique().tolist()"
   ]
  },
  {
   "cell_type": "code",
   "execution_count": 9,
   "metadata": {},
   "outputs": [],
   "source": [
    "df = df.drop(columns=['artist', 'title','date','genre'])"
   ]
  },
  {
   "cell_type": "code",
   "execution_count": 10,
   "metadata": {},
   "outputs": [],
   "source": [
    "df = df.dropna()"
   ]
  },
  {
   "cell_type": "code",
   "execution_count": 11,
   "metadata": {},
   "outputs": [
    {
     "name": "stderr",
     "output_type": "stream",
     "text": [
      "/home/toruitas/anaconda3/envs/painter/lib/python3.7/site-packages/fastai/data_block.py:518: UserWarning: You are labelling your items with CategoryList.\n",
      "Your valid set contained the following unknown labels, the corresponding items have been discarded.\n",
      "Environmental (Land) Art\n",
      "  if getattr(ds, 'warn', False): warn(ds.warn)\n"
     ]
    },
    {
     "data": {
      "text/plain": [
       "['Abstract Art',\n",
       " 'Abstract Expressionism',\n",
       " 'Academicism',\n",
       " 'Action painting',\n",
       " 'American Realism',\n",
       " 'Analytical Cubism',\n",
       " 'Analytical\\xa0Realism',\n",
       " 'Art Brut',\n",
       " 'Art Deco',\n",
       " 'Art Informel',\n",
       " 'Art Nouveau (Modern)',\n",
       " 'Automatic Painting',\n",
       " 'Baroque',\n",
       " 'Biedermeier',\n",
       " 'Byzantine',\n",
       " 'Cartographic Art',\n",
       " 'Classicism',\n",
       " 'Cloisonnism',\n",
       " 'Color Field Painting',\n",
       " 'Conceptual Art',\n",
       " 'Concretism',\n",
       " 'Constructivism',\n",
       " 'Contemporary Realism',\n",
       " 'Costumbrismo',\n",
       " 'Cubism',\n",
       " 'Cubo-Expressionism',\n",
       " 'Cubo-Futurism',\n",
       " 'Dada',\n",
       " 'Divisionism',\n",
       " 'Early Renaissance',\n",
       " 'Existential Art',\n",
       " 'Expressionism',\n",
       " 'Fantastic Realism',\n",
       " 'Fauvism',\n",
       " 'Feminist Art',\n",
       " 'Figurative Expressionism',\n",
       " 'Futurism',\n",
       " 'Gongbi',\n",
       " 'Gothic',\n",
       " 'Hard Edge Painting',\n",
       " 'High Renaissance',\n",
       " 'Hyper-Realism',\n",
       " 'Ilkhanid',\n",
       " 'Impressionism',\n",
       " 'Indian Space painting',\n",
       " 'Ink and wash painting',\n",
       " 'International Gothic',\n",
       " 'Intimism',\n",
       " 'Japonism',\n",
       " 'Joseon Dynasty',\n",
       " 'Kinetic Art',\n",
       " 'Kitsch',\n",
       " 'Lettrism',\n",
       " 'Light and Space',\n",
       " 'Luminism',\n",
       " 'Lyrical Abstraction',\n",
       " 'Magic Realism',\n",
       " 'Mail Art',\n",
       " 'Mannerism (Late Renaissance)',\n",
       " 'Mechanistic Cubism',\n",
       " 'Metaphysical art',\n",
       " 'Minimalism',\n",
       " 'Miserablism',\n",
       " 'Modernismo',\n",
       " 'Mosan art',\n",
       " 'Muralism',\n",
       " 'Nanga (Bunjinga)',\n",
       " 'Nas-Taliq',\n",
       " 'Native Art',\n",
       " 'Naturalism',\n",
       " 'Naïve Art (Primitivism)',\n",
       " 'Neo-Byzantine',\n",
       " 'Neo-Concretism',\n",
       " 'Neo-Dada',\n",
       " 'Neo-Expressionism',\n",
       " 'Neo-Figurative Art',\n",
       " 'Neo-Rococo',\n",
       " 'Neo-Romanticism',\n",
       " 'Neo-baroque',\n",
       " 'Neoclassicism',\n",
       " 'Neoplasticism',\n",
       " 'New Casualism',\n",
       " 'New European Painting',\n",
       " 'New Realism',\n",
       " 'Nihonga',\n",
       " 'Northern Renaissance',\n",
       " 'Nouveau Réalisme',\n",
       " 'Op Art',\n",
       " 'Orientalism',\n",
       " 'Orphism',\n",
       " 'Ottoman Period',\n",
       " 'Outsider art',\n",
       " 'Perceptism ',\n",
       " 'Photorealism',\n",
       " 'Pointillism',\n",
       " 'Pop Art',\n",
       " 'Post-Impressionism',\n",
       " 'Post-Minimalism',\n",
       " 'Post-Painterly Abstraction',\n",
       " 'Poster Art Realism',\n",
       " 'Precisionism',\n",
       " 'Primitivism',\n",
       " 'Proto Renaissance',\n",
       " 'Purism',\n",
       " 'Rayonism',\n",
       " 'Realism',\n",
       " 'Regionalism',\n",
       " 'Rococo',\n",
       " 'Romanesque',\n",
       " 'Romanticism',\n",
       " 'Safavid Period',\n",
       " 'Shin-hanga',\n",
       " 'Social Realism',\n",
       " 'Socialist Realism',\n",
       " 'Spatialism',\n",
       " 'Spectralism',\n",
       " 'Street art',\n",
       " 'Suprematism',\n",
       " 'Surrealism',\n",
       " 'Symbolism',\n",
       " 'Synchromism',\n",
       " 'Synthetic Cubism',\n",
       " 'Synthetism',\n",
       " 'Sōsaku hanga',\n",
       " 'Tachisme',\n",
       " 'Tenebrism',\n",
       " 'Timurid Period',\n",
       " 'Tonalism',\n",
       " 'Transautomatism',\n",
       " 'Tubism',\n",
       " 'Ukiyo-e',\n",
       " 'Verism',\n",
       " 'Yamato-e',\n",
       " 'Zen']"
      ]
     },
     "execution_count": 11,
     "metadata": {},
     "output_type": "execute_result"
    }
   ],
   "source": [
    "tfms = get_transforms(do_flip=False)\n",
    "data = ImageDataBunch.from_df(train_path, df, ds_tfms=tfms, size=224, bs=bs//2)\n",
    "data.classes"
   ]
  },
  {
   "cell_type": "code",
   "execution_count": 12,
   "metadata": {},
   "outputs": [],
   "source": [
    "learn = cnn_learner(data, models.resnet50, metrics=accuracy)"
   ]
  },
  {
   "cell_type": "code",
   "execution_count": 13,
   "metadata": {},
   "outputs": [
    {
     "data": {
      "text/html": [],
      "text/plain": [
       "<IPython.core.display.HTML object>"
      ]
     },
     "metadata": {},
     "output_type": "display_data"
    },
    {
     "name": "stdout",
     "output_type": "stream",
     "text": [
      "LR Finder is complete, type {learner_name}.recorder.plot() to see the graph.\n"
     ]
    },
    {
     "data": {
      "image/png": "[encoded data removed]",
      "text/plain": [
       "<Figure size 432x288 with 1 Axes>"
      ]
     },
     "metadata": {
      "needs_background": "light"
     },
     "output_type": "display_data"
    }
   ],
   "source": [
    "learn.lr_find()\n",
    "learn.recorder.plot()"
   ]
  },
  {
   "cell_type": "code",
   "execution_count": 14,
   "metadata": {},
   "outputs": [
    {
     "data": {
      "text/html": [
       "Total time: 2:43:51 <p><table border=\"1\" class=\"dataframe\">\n",
       "  <thead>\n",
       "    <tr style=\"text-align: left;\">\n",
       "      <th>epoch</th>\n",
       "      <th>train_loss</th>\n",
       "      <th>valid_loss</th>\n",
       "      <th>accuracy</th>\n",
       "      <th>time</th>\n",
       "    </tr>\n",
       "  </thead>\n",
       "  <tbody>\n",
       "    <tr>\n",
       "      <td>0</td>\n",
       "      <td>2.759883</td>\n",
       "      <td>2.457594</td>\n",
       "      <td>0.331935</td>\n",
       "      <td>23:15</td>\n",
       "    </tr>\n",
       "    <tr>\n",
       "      <td>1</td>\n",
       "      <td>2.685076</td>\n",
       "      <td>6.590642</td>\n",
       "      <td>0.358950</td>\n",
       "      <td>22:19</td>\n",
       "    </tr>\n",
       "    <tr>\n",
       "      <td>2</td>\n",
       "      <td>2.532357</td>\n",
       "      <td>9.999887</td>\n",
       "      <td>0.359013</td>\n",
       "      <td>22:33</td>\n",
       "    </tr>\n",
       "    <tr>\n",
       "      <td>3</td>\n",
       "      <td>2.462469</td>\n",
       "      <td>6.196154</td>\n",
       "      <td>0.380371</td>\n",
       "      <td>23:42</td>\n",
       "    </tr>\n",
       "    <tr>\n",
       "      <td>4</td>\n",
       "      <td>2.423856</td>\n",
       "      <td>17.277882</td>\n",
       "      <td>0.373379</td>\n",
       "      <td>22:32</td>\n",
       "    </tr>\n",
       "    <tr>\n",
       "      <td>5</td>\n",
       "      <td>2.386909</td>\n",
       "      <td>12.980211</td>\n",
       "      <td>0.408340</td>\n",
       "      <td>23:28</td>\n",
       "    </tr>\n",
       "    <tr>\n",
       "      <td>6</td>\n",
       "      <td>2.292221</td>\n",
       "      <td>9.181005</td>\n",
       "      <td>0.405861</td>\n",
       "      <td>26:00</td>\n",
       "    </tr>\n",
       "  </tbody>\n",
       "</table>"
      ],
      "text/plain": [
       "<IPython.core.display.HTML object>"
      ]
     },
     "metadata": {},
     "output_type": "display_data"
    }
   ],
   "source": [
    "learn.fit_one_cycle(7)"
   ]
  },
  {
   "cell_type": "code",
   "execution_count": 15,
   "metadata": {},
   "outputs": [],
   "source": [
    "learn.unfreeze()"
   ]
  },
  {
   "cell_type": "code",
   "execution_count": 16,
   "metadata": {},
   "outputs": [
    {
     "data": {
      "text/html": [
       "Total time: 31:50 <p><table border=\"1\" class=\"dataframe\">\n",
       "  <thead>\n",
       "    <tr style=\"text-align: left;\">\n",
       "      <th>epoch</th>\n",
       "      <th>train_loss</th>\n",
       "      <th>valid_loss</th>\n",
       "      <th>accuracy</th>\n",
       "      <th>time</th>\n",
       "    </tr>\n",
       "  </thead>\n",
       "  <tbody>\n",
       "    <tr>\n",
       "      <td>0</td>\n",
       "      <td>2.954880</td>\n",
       "      <td>50.543232</td>\n",
       "      <td>0.267671</td>\n",
       "      <td>31:50</td>\n",
       "    </tr>\n",
       "  </tbody>\n",
       "</table>"
      ],
      "text/plain": [
       "<IPython.core.display.HTML object>"
      ]
     },
     "metadata": {},
     "output_type": "display_data"
    }
   ],
   "source": [
    "learn.fit_one_cycle(1)"
   ]
  },
  {
   "cell_type": "code",
   "execution_count": 19,
   "metadata": {},
   "outputs": [
    {
     "data": {
      "text/plain": [
       "134"
      ]
     },
     "execution_count": 19,
     "metadata": {},
     "output_type": "execute_result"
    }
   ],
   "source": [
    "len(data.classes)"
   ]
  },
  {
   "cell_type": "code",
   "execution_count": 17,
   "metadata": {},
   "outputs": [],
   "source": [
    "interp = ClassificationInterpretation.from_learner(learn)"
   ]
  },
  {
   "cell_type": "code",
   "execution_count": 18,
   "metadata": {},
   "outputs": [
    {
     "data": {
      "text/plain": [
       "[('Post-Impressionism', 'Impressionism', 511),\n",
       " ('Romanticism', 'Realism', 389),\n",
       " ('Realism', 'Impressionism', 335),\n",
       " ('Realism', 'Romanticism', 289),\n",
       " ('Impressionism', 'Realism', 271),\n",
       " ('Expressionism', 'Impressionism', 203),\n",
       " ('Baroque', 'Romanticism', 199),\n",
       " ('Romanticism', 'Impressionism', 179),\n",
       " ('Rococo', 'Romanticism', 166),\n",
       " ('Expressionism', 'Realism', 159),\n",
       " ('Symbolism', 'Realism', 153),\n",
       " ('Symbolism', 'Impressionism', 150),\n",
       " ('Baroque', 'Realism', 129),\n",
       " ('Expressionism', 'Art Nouveau (Modern)', 120),\n",
       " ('Post-Impressionism', 'Realism', 107),\n",
       " ('Neoclassicism', 'Romanticism', 103),\n",
       " ('Surrealism', 'Romanticism', 103),\n",
       " ('Post-Impressionism', 'Expressionism', 102),\n",
       " ('Surrealism', 'Realism', 100),\n",
       " ('Art Nouveau (Modern)', 'Realism', 94),\n",
       " ('Symbolism', 'Romanticism', 91),\n",
       " ('Expressionism', 'Post-Impressionism', 88),\n",
       " ('Northern Renaissance', 'Realism', 85),\n",
       " ('Art Nouveau (Modern)', 'Expressionism', 81),\n",
       " ('Art Nouveau (Modern)', 'Impressionism', 78),\n",
       " ('Surrealism', 'Expressionism', 73),\n",
       " ('Mannerism (Late Renaissance)', 'Baroque', 71),\n",
       " ('Neoclassicism', 'Realism', 71),\n",
       " ('Romanticism', 'Baroque', 70),\n",
       " ('Naïve Art (Primitivism)', 'Realism', 69),\n",
       " ('Naïve Art (Primitivism)', 'Expressionism', 67),\n",
       " ('Rococo', 'Realism', 67),\n",
       " ('Cubism', 'Expressionism', 66),\n",
       " ('Northern Renaissance', 'Romanticism', 66),\n",
       " ('Impressionism', 'Romanticism', 64),\n",
       " ('Abstract Expressionism', 'Expressionism', 59),\n",
       " ('Ukiyo-e', 'Art Nouveau (Modern)', 58),\n",
       " ('Rococo', 'Baroque', 57),\n",
       " ('Neoclassicism', 'Baroque', 56),\n",
       " ('Abstract Expressionism', 'Impressionism', 55),\n",
       " ('High Renaissance', 'Baroque', 51),\n",
       " ('Northern Renaissance', 'Baroque', 51),\n",
       " ('Academicism', 'Realism', 50),\n",
       " ('Surrealism', 'Art Nouveau (Modern)', 50)]"
      ]
     },
     "execution_count": 18,
     "metadata": {},
     "output_type": "execute_result"
    }
   ],
   "source": [
    "interp.most_confused(min_val=50)"
   ]
  },
  {
   "cell_type": "code",
   "execution_count": null,
   "metadata": {},
   "outputs": [],
   "source": []
  }
 ],
 "metadata": {
  "kernelspec": {
   "display_name": "Python 3",
   "language": "python",
   "name": "python3"
  },
  "language_info": {
   "codemirror_mode": {
    "name": "ipython",
    "version": 3
   },
   "file_extension": ".py",
   "mimetype": "text/x-python",
   "name": "python",
   "nbconvert_exporter": "python",
   "pygments_lexer": "ipython3",
   "version": "3.7.2"
  }
 },
 "nbformat": 4,
 "nbformat_minor": 2
}
